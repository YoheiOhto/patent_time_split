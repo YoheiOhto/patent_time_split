{
 "cells": [
  {
   "cell_type": "markdown",
   "metadata": {},
   "source": [
    "# defreeze drugbank data\n",
    "# download from https://go.drugbank.com/releases/latest"
   ]
  },
  {
   "cell_type": "code",
   "execution_count": 2,
   "metadata": {},
   "outputs": [],
   "source": [
    "import xml.etree.ElementTree as ET\n",
    "import pandas as pd\n",
    "import zipfile\n",
    "import pubchempy as pcp\n",
    "import os\n",
    "import sys\n",
    "import time\n",
    "current_dir = os.getcwd()\n",
    "parent_parent_dir = os.path.dirname(os.path.dirname(current_dir))\n",
    "src_dir = os.path.join(parent_parent_dir, 'src')\n",
    "sys.path.append(src_dir)\n",
    "\n",
    "from util import *"
   ]
  },
  {
   "cell_type": "code",
   "execution_count": 2,
   "metadata": {},
   "outputs": [],
   "source": [
    "zip_path = '../../data/raw/drugbank/drugbank_all_full_database.xml.zip'\n",
    "extract_path = '../../data/defreezed/drugbank'\n",
    "\n",
    "# with zipfile.ZipFile(zip_path, 'r') as zip_ref:\n",
    "#     zip_ref.extractall(extract_path)\n",
    "# print(f\"Extracted to {extract_path}\")"
   ]
  },
  {
   "cell_type": "code",
   "execution_count": null,
   "metadata": {},
   "outputs": [],
   "source": [
    "filein = f'{extract_path}/full database.xml'\n",
    "\n",
    "### re parse\n",
    "tree = ET.parse(filein)\n",
    "root = tree.getroot()\n",
    "del tree\n",
    "\n",
    "# ID\n",
    "drugbank_id = []\n",
    "ap = drugbank_id.append\n",
    "for v in root:\n",
    "    ele = v.find('{http://www.drugbank.ca}drugbank-id')\n",
    "    if ele is None:\n",
    "        ap('')\n",
    "    else:\n",
    "        ap(ele.text)\n",
    "\n",
    "# Drugname\n",
    "drugbank_names = []\n",
    "ap = drugbank_names.append\n",
    "for v in root:\n",
    "    ele = v.find('{http://www.drugbank.ca}name')\n",
    "    if ele is None:\n",
    "        ap([])\n",
    "    else:\n",
    "        ap(ele.text)\n",
    "\n",
    "# Cas number\n",
    "casnumber = []\n",
    "ap = casnumber.append\n",
    "for v in root:\n",
    "    ele = v.find('{http://www.drugbank.ca}cas-number')\n",
    "    if ele is None:\n",
    "        ap([])\n",
    "    else:\n",
    "        ap(ele.text)\n",
    "\n",
    "# approved dates\n",
    "appr_dates = []\n",
    "ap = appr_dates.append\n",
    "for i in root:\n",
    "    dates = set()\n",
    "    ap2 = dates.add\n",
    "    v = i.find('{http://www.drugbank.ca}products')\n",
    "    for x in v:\n",
    "        ele = x.find(\"{http://www.drugbank.ca}started-marketing-on\")\n",
    "        if ele is not None:\n",
    "            if ele.text != None:\n",
    "                ap2(ele.text)\n",
    "    if len(dates)==0:\n",
    "        dates=None\n",
    "    ap(dates)\n",
    "\n",
    "# drug category\n",
    "category = []\n",
    "ap = category.append\n",
    "for v in root:\n",
    "    col = []\n",
    "    ele = v.find('{http://www.drugbank.ca}categories')\n",
    "    for x in ele:\n",
    "        e = x.find(\"{http://www.drugbank.ca}category\")\n",
    "        if e is not None:\n",
    "            col.append(e.text)\n",
    "    ap(col)\n",
    "\n",
    "smile = []\n",
    "ap = smile.append\n",
    "for v in root:\n",
    "    col = []\n",
    "    ele = v.find('{http://www.drugbank.ca}calculated-properties')\n",
    "    if ele != None:\n",
    "        for x in ele:\n",
    "            smiles = False\n",
    "            e = x.find(\"{http://www.drugbank.ca}kind\")\n",
    "            if e.text == \"SMILES\":\n",
    "                smiles = True\n",
    "            e = x.find(\"{http://www.drugbank.ca}value\")\n",
    "            if e != None and smiles == True:\n",
    "                col.append(e.text)\n",
    "    ap(col)\n",
    "\n",
    "df = pd.DataFrame([drugbank_id, drugbank_names, casnumber, appr_dates, category, smile],index=[\"ID\",\"name\",\"cas\",\"dates\",\"category\",\"smiles\"]).T"
   ]
  },
  {
   "cell_type": "code",
   "execution_count": 35,
   "metadata": {},
   "outputs": [
    {
     "name": "stdout",
     "output_type": "stream",
     "text": [
      "17430\n"
     ]
    }
   ],
   "source": [
    "print(len(df))"
   ]
  },
  {
   "cell_type": "code",
   "execution_count": 41,
   "metadata": {},
   "outputs": [],
   "source": [
    "df.to_csv(\"../../data/processed/drugbank/250106_drugbank.csv\", index=False)"
   ]
  },
  {
   "cell_type": "code",
   "execution_count": 6,
   "metadata": {},
   "outputs": [],
   "source": [
    "df = pd.read_csv(\"../../data/processed/drugbank/250106_drugbank.csv\")"
   ]
  },
  {
   "cell_type": "code",
   "execution_count": 13,
   "metadata": {},
   "outputs": [
    {
     "name": "stderr",
     "output_type": "stream",
     "text": [
      "100%|██████████| 17430/17430 [00:01<00:00, 11602.89it/s]\n"
     ]
    }
   ],
   "source": [
    "from tqdm import tqdm\n",
    "for_pcp = []\n",
    "for i in tqdm(range(len(df))):\n",
    "    if df[\"smiles\"][i] != []:\n",
    "        smiles = df[\"smiles\"][i][0]\n",
    "    else:\n",
    "        smiles = \"\"\n",
    "    if pd.isna(df[\"cas\"][i]):\n",
    "        cas = \"\"\n",
    "    else:\n",
    "        cas = df[\"cas\"][i]\n",
    "    for_pcp.append([df[\"name\"][i], cas, smiles])"
   ]
  },
  {
   "cell_type": "code",
   "execution_count": 9,
   "metadata": {},
   "outputs": [],
   "source": [
    "from rdkit import Chem\n",
    "from rdkit.Chem import AllChem\n",
    "from rdkit import RDLogger\n",
    "RDLogger.DisableLog('rdApp.*')"
   ]
  },
  {
   "cell_type": "code",
   "execution_count": 16,
   "metadata": {},
   "outputs": [
    {
     "name": "stderr",
     "output_type": "stream",
     "text": [
      "100%|██████████| 17430/17430 [5:04:13<00:00,  1.05s/it]  \n"
     ]
    }
   ],
   "source": [
    "smiles = []\n",
    "for i in tqdm(range(len(for_pcp))):\n",
    "    name = for_pcp[i][0]\n",
    "    time.sleep(0.2)\n",
    "    compound = pcp.get_compounds(name, namespace='name')\n",
    "    if not compound:\n",
    "        cas = for_pcp[i][1]\n",
    "        if cas != \"\":\n",
    "            time.sleep(0.2)\n",
    "            compound = pcp.get_compounds(cas, namespace='name')\n",
    "        else:\n",
    "            compound = None\n",
    "    if compound:\n",
    "        isomeric_smiles = compound[0].isomeric_smiles\n",
    "        if isomeric_smiles:\n",
    "            smiles.append(isomeric_smiles)\n",
    "        else:\n",
    "            canonical_smiles = compound[0].canonical_smiles\n",
    "            if canonical_smiles:\n",
    "                smiles.append(canonical_smiles)\n",
    "            else:\n",
    "                if for_pcp[i][2] != \"\":\n",
    "                    smiles.append(for_pcp[i][2])\n",
    "                else:\n",
    "                    smiles.append(\"\")\n",
    "    else:\n",
    "        if for_pcp[i][2] != \"\":\n",
    "            smiles.append(for_pcp[i][2])\n",
    "        else:\n",
    "            smiles.append(\"\")"
   ]
  },
  {
   "cell_type": "code",
   "execution_count": 40,
   "metadata": {},
   "outputs": [
    {
     "name": "stderr",
     "output_type": "stream",
     "text": [
      "100%|██████████| 17430/17430 [00:08<00:00, 1983.67it/s]\n"
     ]
    }
   ],
   "source": [
    "rdkit_smiles = []\n",
    "for i in tqdm(smiles):\n",
    "    if i == \"[\":\n",
    "        rdkit_smiles.append(None)\n",
    "        continue\n",
    "    mol = Chem.MolFromSmiles(i)\n",
    "    if mol is None:\n",
    "        rdkit_smiles.append(i)\n",
    "        continue\n",
    "    new = Chem.MolToSmiles(mol)\n",
    "    rdkit_smiles.append(new)"
   ]
  },
  {
   "cell_type": "code",
   "execution_count": 46,
   "metadata": {},
   "outputs": [
    {
     "data": {
      "text/plain": [
       "17430"
      ]
     },
     "execution_count": 46,
     "metadata": {},
     "output_type": "execute_result"
    }
   ],
   "source": [
    "len(rdkit_smiles)"
   ]
  },
  {
   "cell_type": "code",
   "execution_count": 48,
   "metadata": {},
   "outputs": [
    {
     "name": "stdout",
     "output_type": "stream",
     "text": [
      "Length without None: 12924\n"
     ]
    }
   ],
   "source": [
    "filtered_length = len(list(filter(lambda x: x is not None, rdkit_smiles)))\n",
    "print(\"Length without None:\", filtered_length)"
   ]
  },
  {
   "cell_type": "code",
   "execution_count": 42,
   "metadata": {},
   "outputs": [],
   "source": [
    "formatted_dates = []\n",
    "for i in range(len(df)):\n",
    "    date = df[\"dates\"][i]\n",
    "    if date != \"[]\":\n",
    "        d = min(eval(date)).replace(\"-\", \"\")\n",
    "        date = convert_date_to_decimal(d)\n",
    "        formatted_dates.append(date)\n",
    "    else:\n",
    "        formatted_dates.append(None)"
   ]
  },
  {
   "cell_type": "code",
   "execution_count": 43,
   "metadata": {},
   "outputs": [],
   "source": [
    "formatted = [[rdkit_smiles[i], formatted_dates[i]] for i in range(len(rdkit_smiles))]\n",
    "df_formatted = pd.DataFrame(formatted)"
   ]
  },
  {
   "cell_type": "code",
   "execution_count": 47,
   "metadata": {},
   "outputs": [],
   "source": [
    "df_formatted = df_formatted.dropna()\n",
    "df_formatted.to_csv(\"250106_drugbank_formatted.csv\", index=False)"
   ]
  },
  {
   "cell_type": "code",
   "execution_count": 49,
   "metadata": {},
   "outputs": [],
   "source": [
    "pd.DataFrame(list(filter(lambda x: x is not None, rdkit_smiles))).to_csv(\"250106_drugbank_onlysmiles.csv\", index=False)"
   ]
  },
  {
   "cell_type": "code",
   "execution_count": 52,
   "metadata": {},
   "outputs": [],
   "source": [
    "mol_date = []\n",
    "smiles_date = dict()\n",
    "\n",
    "for i in range(len(df_formatted)):\n",
    "    smiles = df_formatted.iloc[i,0]\n",
    "    date = df_formatted.iloc[i,1]\n",
    "    mol = Chem.MolFromSmiles(smiles)\n",
    "    mol_date.append([mol, date])\n",
    "    smiles_date[smiles] = date"
   ]
  },
  {
   "cell_type": "code",
   "execution_count": 53,
   "metadata": {},
   "outputs": [],
   "source": [
    "pickle_dump(mol_date, \"../../data/processed/drugbank/250106_drugbank_mol_date.pickle\")\n",
    "pickle_dump(smiles_date, \"../../data/processed/drugbank/250106_drugbank_smiles_date.pickle\")"
   ]
  }
 ],
 "metadata": {
  "kernelspec": {
   "display_name": "250102_test_env",
   "language": "python",
   "name": "250102_test_env"
  },
  "language_info": {
   "codemirror_mode": {
    "name": "ipython",
    "version": 3
   },
   "file_extension": ".py",
   "mimetype": "text/x-python",
   "name": "python",
   "nbconvert_exporter": "python",
   "pygments_lexer": "ipython3",
   "version": "3.11.4"
  }
 },
 "nbformat": 4,
 "nbformat_minor": 2
}
