{
 "cells": [
  {
   "cell_type": "markdown",
   "metadata": {},
   "source": [
    "# load surechembl dataset from https://ftp.ebi.ac.\n",
    "# path = /pub/databases/chembl/SureChEMBL/data/map"
   ]
  },
  {
   "cell_type": "code",
   "execution_count": 1,
   "metadata": {},
   "outputs": [],
   "source": [
    "import ftplib\n",
    "from urllib.parse import urlparse\n",
    "from tqdm import tqdm\n",
    "import tarfile\n",
    "import os\n",
    "import shutil\n",
    "import glob\n",
    "import gzip\n",
    "import os\n",
    "import sys\n",
    "import gc\n",
    "\n",
    "current_dir = os.getcwd()\n",
    "parent_parent_dir = os.path.dirname(os.path.dirname(current_dir))\n",
    "src_dir = os.path.join(parent_parent_dir, 'src')\n",
    "sys.path.append(src_dir)\n",
    "\n",
    "from util import *\n",
    "\n",
    "from rdkit import Chem\n",
    "from rdkit.Chem import AllChem\n",
    "from rdkit import RDLogger\n",
    "RDLogger.DisableLog('rdApp.*')\n",
    "import warnings\n",
    "warnings.simplefilter('ignore')\n",
    "import pandas as pd\n",
    "from datetime import datetime\n",
    "from tqdm import tqdm"
   ]
  },
  {
   "cell_type": "code",
   "execution_count": null,
   "metadata": {},
   "outputs": [],
   "source": [
    "parsed = urlparse('https://ftp.ebi.ac.uk')\n",
    "ftp = ftplib.FTP(parsed.netloc)\n",
    "ftp.set_pasv('true')\n",
    "ftp.login(\"anonymous\", \"aaa\")\n",
    "\n",
    "ftp.cwd('/pub/databases/chembl/SureChEMBL/data/map')\n",
    "file_list = ftp.nlst(\".\")\n",
    "files = [file for file in file_list if \"txt\" in file]\n",
    "\n",
    "for i in tqdm(range(len(files))):\n",
    "    parsed = urlparse('https://ftp.ebi.ac.uk')\n",
    "    ftp = ftplib.FTP(parsed.netloc)\n",
    "    ftp.set_pasv('true')\n",
    "    ftp.login(\"anonymous\", \"aaa\")\n",
    "    ftp.cwd('/pub/databases/chembl/SureChEMBL/data/map')\n",
    "    path = files[i]\n",
    "    with open(f'../../data/raw/surechembl/{path}', 'wb') as f:\n",
    "        ftp.retrbinary(f'RETR {path}', f.write)"
   ]
  },
  {
   "cell_type": "code",
   "execution_count": null,
   "metadata": {},
   "outputs": [],
   "source": [
    "source_directory = \"../../data/raw/surechembl\"\n",
    "targz_files = glob.glob(os.path.join(source_directory, \"*.txt.gz\"))\n",
    "\n",
    "for targz_file in tqdm(targz_files):\n",
    "    with gzip.open(targz_file, 'rb') as f_in:\n",
    "        output_file = targz_file.replace(\"raw\", \"defreezed\").replace(\".gz\", \"\")\n",
    "        with open(output_file, 'wb') as f_out:\n",
    "            shutil.copyfileobj(f_in, f_out)"
   ]
  },
  {
   "cell_type": "code",
   "execution_count": 3,
   "metadata": {},
   "outputs": [
    {
     "name": "stderr",
     "output_type": "stream",
     "text": [
      "                                                                                                           \r"
     ]
    }
   ],
   "source": [
    "source_directory = \"../../data/defreezed/surechembl/\"\n",
    "targz_files = glob.glob(os.path.join(source_directory, \"*.txt\"))\n",
    "targz_files = sorted(targz_files)\n",
    "tsv = []\n",
    "output_file = \"../../data/processed/surechembl/250106_surechembl_v0.tsv\"\n",
    "\n",
    "for file in targz_files:\n",
    "    with open(file, \"r\") as f:\n",
    "        for line in tqdm(f, desc=f\"Processing {file}\", leave=False):\n",
    "            try:\n",
    "                parts = line.split(\"\\t\")\n",
    "                smiles = parts[1]\n",
    "                date = parts[5]\n",
    "                with open(output_file, \"a\") as out_file:\n",
    "                    out_file.write(f\"{smiles}\\t{date}\\n\")\n",
    "            except IndexError:\n",
    "                continue"
   ]
  },
  {
   "cell_type": "code",
   "execution_count": null,
   "metadata": {},
   "outputs": [],
   "source": [
    "tsv = pd.read_csv(\"../../data/processed/surechembl/250106_surechembl_v0.tsv\", sep=\"\\t\", header=None)"
   ]
  },
  {
   "cell_type": "code",
   "execution_count": 5,
   "metadata": {},
   "outputs": [
    {
     "name": "stdout",
     "output_type": "stream",
     "text": [
      "373616491\n"
     ]
    }
   ],
   "source": [
    "print(len(tsv))"
   ]
  },
  {
   "cell_type": "code",
   "execution_count": 6,
   "metadata": {},
   "outputs": [],
   "source": [
    "sorted_tsv = tsv.sort_values([1]).reset_index(drop=True)"
   ]
  },
  {
   "cell_type": "code",
   "execution_count": 7,
   "metadata": {},
   "outputs": [
    {
     "name": "stdout",
     "output_type": "stream",
     "text": [
      "23465171\n",
      "350151320 DELETED!!\n"
     ]
    }
   ],
   "source": [
    "tsv_unique = sorted_tsv.drop_duplicates(subset=0, keep=\"first\")\n",
    "print(len(tsv_unique))\n",
    "print(len(tsv)-len(tsv_unique), \"DELETED!!\")"
   ]
  },
  {
   "cell_type": "code",
   "execution_count": 8,
   "metadata": {},
   "outputs": [
    {
     "data": {
      "text/html": [
       "<div>\n",
       "<style scoped>\n",
       "    .dataframe tbody tr th:only-of-type {\n",
       "        vertical-align: middle;\n",
       "    }\n",
       "\n",
       "    .dataframe tbody tr th {\n",
       "        vertical-align: top;\n",
       "    }\n",
       "\n",
       "    .dataframe thead th {\n",
       "        text-align: right;\n",
       "    }\n",
       "</style>\n",
       "<table border=\"1\" class=\"dataframe\">\n",
       "  <thead>\n",
       "    <tr style=\"text-align: right;\">\n",
       "      <th></th>\n",
       "      <th>0</th>\n",
       "      <th>1</th>\n",
       "    </tr>\n",
       "  </thead>\n",
       "  <tbody>\n",
       "    <tr>\n",
       "      <th>0</th>\n",
       "      <td>OC1=C2C=CC=CC2=CC2=CC3=C(CC=CC3)C=C12</td>\n",
       "      <td>1962-01-30</td>\n",
       "    </tr>\n",
       "    <tr>\n",
       "      <th>1</th>\n",
       "      <td>N1C=CN=C(C2=NC=CC=C2)C2=C1C=CC=C2</td>\n",
       "      <td>1963-08-13</td>\n",
       "    </tr>\n",
       "    <tr>\n",
       "      <th>2</th>\n",
       "      <td>N1C2=CC=CC=C2C=NC=C1C1=CN=CC=C1</td>\n",
       "      <td>1963-08-13</td>\n",
       "    </tr>\n",
       "    <tr>\n",
       "      <th>3</th>\n",
       "      <td>C[C@H]1[C@H]2[C@H](C[C@H]3[C@@H]4CCC5C[C@@H](O...</td>\n",
       "      <td>1965-02-16</td>\n",
       "    </tr>\n",
       "    <tr>\n",
       "      <th>4</th>\n",
       "      <td>C[C@H]1[C@H]2[C@H](C[C@H]3[C@@H]4CC[C@@H]5C[C@...</td>\n",
       "      <td>1965-02-16</td>\n",
       "    </tr>\n",
       "  </tbody>\n",
       "</table>\n",
       "</div>"
      ],
      "text/plain": [
       "                                                   0           1\n",
       "0              OC1=C2C=CC=CC2=CC2=CC3=C(CC=CC3)C=C12  1962-01-30\n",
       "1                  N1C=CN=C(C2=NC=CC=C2)C2=C1C=CC=C2  1963-08-13\n",
       "2                    N1C2=CC=CC=C2C=NC=C1C1=CN=CC=C1  1963-08-13\n",
       "3  C[C@H]1[C@H]2[C@H](C[C@H]3[C@@H]4CCC5C[C@@H](O...  1965-02-16\n",
       "4  C[C@H]1[C@H]2[C@H](C[C@H]3[C@@H]4CC[C@@H]5C[C@...  1965-02-16"
      ]
     },
     "execution_count": 8,
     "metadata": {},
     "output_type": "execute_result"
    }
   ],
   "source": [
    "tsv_unique.head()"
   ]
  },
  {
   "cell_type": "code",
   "execution_count": null,
   "metadata": {},
   "outputs": [],
   "source": [
    "tsv_unique.columns = [\"SMILES\", \"DATE\"]\n",
    "tsv_unique.to_csv(\"../../data/processed/surechembl/250106_sorted.tsv\", sep=\"\\t\", index=False)"
   ]
  },
  {
   "cell_type": "code",
   "execution_count": 2,
   "metadata": {},
   "outputs": [],
   "source": [
    "tsv_unique = pd.read_csv(\"../../data/processed/surechembl/250106_sorted.tsv\", sep=\"\\t\")"
   ]
  },
  {
   "cell_type": "code",
   "execution_count": 3,
   "metadata": {},
   "outputs": [
    {
     "data": {
      "text/html": [
       "<div>\n",
       "<style scoped>\n",
       "    .dataframe tbody tr th:only-of-type {\n",
       "        vertical-align: middle;\n",
       "    }\n",
       "\n",
       "    .dataframe tbody tr th {\n",
       "        vertical-align: top;\n",
       "    }\n",
       "\n",
       "    .dataframe thead th {\n",
       "        text-align: right;\n",
       "    }\n",
       "</style>\n",
       "<table border=\"1\" class=\"dataframe\">\n",
       "  <thead>\n",
       "    <tr style=\"text-align: right;\">\n",
       "      <th></th>\n",
       "      <th>SMILES</th>\n",
       "      <th>DATE</th>\n",
       "    </tr>\n",
       "  </thead>\n",
       "  <tbody>\n",
       "    <tr>\n",
       "      <th>0</th>\n",
       "      <td>OC1=C2C=CC=CC2=CC2=CC3=C(CC=CC3)C=C12</td>\n",
       "      <td>1962-01-30</td>\n",
       "    </tr>\n",
       "    <tr>\n",
       "      <th>1</th>\n",
       "      <td>N1C=CN=C(C2=NC=CC=C2)C2=C1C=CC=C2</td>\n",
       "      <td>1963-08-13</td>\n",
       "    </tr>\n",
       "    <tr>\n",
       "      <th>2</th>\n",
       "      <td>N1C2=CC=CC=C2C=NC=C1C1=CN=CC=C1</td>\n",
       "      <td>1963-08-13</td>\n",
       "    </tr>\n",
       "    <tr>\n",
       "      <th>3</th>\n",
       "      <td>C[C@H]1[C@H]2[C@H](C[C@H]3[C@@H]4CCC5C[C@@H](O...</td>\n",
       "      <td>1965-02-16</td>\n",
       "    </tr>\n",
       "    <tr>\n",
       "      <th>4</th>\n",
       "      <td>C[C@H]1[C@H]2[C@H](C[C@H]3[C@@H]4CC[C@@H]5C[C@...</td>\n",
       "      <td>1965-02-16</td>\n",
       "    </tr>\n",
       "  </tbody>\n",
       "</table>\n",
       "</div>"
      ],
      "text/plain": [
       "                                              SMILES        DATE\n",
       "0              OC1=C2C=CC=CC2=CC2=CC3=C(CC=CC3)C=C12  1962-01-30\n",
       "1                  N1C=CN=C(C2=NC=CC=C2)C2=C1C=CC=C2  1963-08-13\n",
       "2                    N1C2=CC=CC=C2C=NC=C1C1=CN=CC=C1  1963-08-13\n",
       "3  C[C@H]1[C@H]2[C@H](C[C@H]3[C@@H]4CCC5C[C@@H](O...  1965-02-16\n",
       "4  C[C@H]1[C@H]2[C@H](C[C@H]3[C@@H]4CC[C@@H]5C[C@...  1965-02-16"
      ]
     },
     "execution_count": 3,
     "metadata": {},
     "output_type": "execute_result"
    }
   ],
   "source": [
    "tsv_unique.head()"
   ]
  },
  {
   "cell_type": "code",
   "execution_count": 4,
   "metadata": {},
   "outputs": [],
   "source": [
    "def process_smiles_date(args):\n",
    "    old, date_raw = args\n",
    "    try:\n",
    "        date = date_raw.replace(\"-\", \"\")\n",
    "        date_decimal = convert_date_to_decimal(date)\n",
    "        mol = Chem.MolFromSmiles(old)\n",
    "        if mol is None:\n",
    "            return old, date_decimal\n",
    "        new = Chem.MolToSmiles(mol)\n",
    "        return new, date_decimal\n",
    "    except:\n",
    "        return None"
   ]
  },
  {
   "cell_type": "code",
   "execution_count": 5,
   "metadata": {},
   "outputs": [],
   "source": [
    "import csv\n",
    "from tqdm import tqdm"
   ]
  },
  {
   "cell_type": "code",
   "execution_count": 6,
   "metadata": {},
   "outputs": [],
   "source": [
    "def process_smiles_single(tsv_unique, output_csv):\n",
    "    with open(output_csv, mode='w', newline='', encoding='utf-8') as csvfile:\n",
    "        writer = csv.writer(csvfile)\n",
    "        writer.writerow([\"SMILES\", \"Date\"])\n",
    "\n",
    "        for i in tqdm(range(len(tsv_unique)), desc=\"Processing\"):\n",
    "            result = process_smiles_date((tsv_unique.iloc[i, 0], tsv_unique.iloc[i, 1]))\n",
    "            if result is not None:\n",
    "                writer.writerow(result)"
   ]
  },
  {
   "cell_type": "code",
   "execution_count": 3,
   "metadata": {},
   "outputs": [],
   "source": [
    "output_csv = \"../../data/processed/surechembl/250106_sorted_rdkit.csv\"\n",
    "# process_smiles_single(tsv_unique, output_csv)"
   ]
  },
  {
   "cell_type": "code",
   "execution_count": 3,
   "metadata": {},
   "outputs": [],
   "source": [
    "df_processed = pd.read_csv(\"../../data/processed/surechembl/250106_sorted_pcp.csv\") "
   ]
  },
  {
   "cell_type": "code",
   "execution_count": 4,
   "metadata": {},
   "outputs": [
    {
     "data": {
      "text/html": [
       "<div>\n",
       "<style scoped>\n",
       "    .dataframe tbody tr th:only-of-type {\n",
       "        vertical-align: middle;\n",
       "    }\n",
       "\n",
       "    .dataframe tbody tr th {\n",
       "        vertical-align: top;\n",
       "    }\n",
       "\n",
       "    .dataframe thead th {\n",
       "        text-align: right;\n",
       "    }\n",
       "</style>\n",
       "<table border=\"1\" class=\"dataframe\">\n",
       "  <thead>\n",
       "    <tr style=\"text-align: right;\">\n",
       "      <th></th>\n",
       "      <th>SMILES</th>\n",
       "      <th>Date</th>\n",
       "    </tr>\n",
       "  </thead>\n",
       "  <tbody>\n",
       "    <tr>\n",
       "      <th>0</th>\n",
       "      <td>Oc1c2ccccc2cc2cc3c(cc12)CC=CC3</td>\n",
       "      <td>1962.082</td>\n",
       "    </tr>\n",
       "    <tr>\n",
       "      <th>1</th>\n",
       "      <td>C1=CNc2ccccc2C(c2ccccn2)=N1</td>\n",
       "      <td>1963.616</td>\n",
       "    </tr>\n",
       "    <tr>\n",
       "      <th>2</th>\n",
       "      <td>C1=NC=C(c2cccnc2)Nc2ccccc21</td>\n",
       "      <td>1963.616</td>\n",
       "    </tr>\n",
       "    <tr>\n",
       "      <th>3</th>\n",
       "      <td>C[C@@H]1CC[C@@]2(OC1)O[C@H]1C[C@H]3[C@@H]4CCC5...</td>\n",
       "      <td>1965.129</td>\n",
       "    </tr>\n",
       "    <tr>\n",
       "      <th>4</th>\n",
       "      <td>C[C@@H]1CC[C@@]2(OC1)O[C@H]1C[C@H]3[C@@H]4CC[C...</td>\n",
       "      <td>1965.129</td>\n",
       "    </tr>\n",
       "    <tr>\n",
       "      <th>...</th>\n",
       "      <td>...</td>\n",
       "      <td>...</td>\n",
       "    </tr>\n",
       "    <tr>\n",
       "      <th>23465166</th>\n",
       "      <td>COCCCOc1ccc(C(=O)Nc2cc(-c3nc4ccccc4[nH]3)[nH]n...</td>\n",
       "      <td>2023.992</td>\n",
       "    </tr>\n",
       "    <tr>\n",
       "      <th>23465167</th>\n",
       "      <td>O=C(c1cccnc1-c1ccc(-c2n[nH]c3ncc(-c4ccc5c(c4)C...</td>\n",
       "      <td>2023.992</td>\n",
       "    </tr>\n",
       "    <tr>\n",
       "      <th>23465168</th>\n",
       "      <td>O=C(NCCN1CCCCC1C(=O)O)OCC1c2ccccc2-c2ccccc21</td>\n",
       "      <td>2023.992</td>\n",
       "    </tr>\n",
       "    <tr>\n",
       "      <th>23465169</th>\n",
       "      <td>CCN(CC)C(=O)[C@@H]1C=C2c3cccc4[nH]cc(c34)C[C@H...</td>\n",
       "      <td>2023.992</td>\n",
       "    </tr>\n",
       "    <tr>\n",
       "      <th>23465170</th>\n",
       "      <td>Cc1ncc(C#N)n1-c1cc(OC2CN(C(=O)N3N=CCC3c3cc(F)c...</td>\n",
       "      <td>2023.992</td>\n",
       "    </tr>\n",
       "  </tbody>\n",
       "</table>\n",
       "<p>23465171 rows × 2 columns</p>\n",
       "</div>"
      ],
      "text/plain": [
       "                                                     SMILES      Date\n",
       "0                            Oc1c2ccccc2cc2cc3c(cc12)CC=CC3  1962.082\n",
       "1                               C1=CNc2ccccc2C(c2ccccn2)=N1  1963.616\n",
       "2                               C1=NC=C(c2cccnc2)Nc2ccccc21  1963.616\n",
       "3         C[C@@H]1CC[C@@]2(OC1)O[C@H]1C[C@H]3[C@@H]4CCC5...  1965.129\n",
       "4         C[C@@H]1CC[C@@]2(OC1)O[C@H]1C[C@H]3[C@@H]4CC[C...  1965.129\n",
       "...                                                     ...       ...\n",
       "23465166  COCCCOc1ccc(C(=O)Nc2cc(-c3nc4ccccc4[nH]3)[nH]n...  2023.992\n",
       "23465167  O=C(c1cccnc1-c1ccc(-c2n[nH]c3ncc(-c4ccc5c(c4)C...  2023.992\n",
       "23465168       O=C(NCCN1CCCCC1C(=O)O)OCC1c2ccccc2-c2ccccc21  2023.992\n",
       "23465169  CCN(CC)C(=O)[C@@H]1C=C2c3cccc4[nH]cc(c34)C[C@H...  2023.992\n",
       "23465170  Cc1ncc(C#N)n1-c1cc(OC2CN(C(=O)N3N=CCC3c3cc(F)c...  2023.992\n",
       "\n",
       "[23465171 rows x 2 columns]"
      ]
     },
     "execution_count": 4,
     "metadata": {},
     "output_type": "execute_result"
    }
   ],
   "source": [
    "df_processed"
   ]
  },
  {
   "cell_type": "code",
   "execution_count": 5,
   "metadata": {},
   "outputs": [
    {
     "name": "stderr",
     "output_type": "stream",
     "text": [
      "100%|██████████| 23465171/23465171 [50:20<00:00, 7769.14it/s]  \n"
     ]
    }
   ],
   "source": [
    "smiles_date = dict()\n",
    "for i in tqdm(range(len(df_processed))):\n",
    "    smiles = df_processed.iloc[i,0]\n",
    "    date = df_processed.iloc[i,1]\n",
    "    smiles_date[smiles] = date"
   ]
  },
  {
   "cell_type": "code",
   "execution_count": 6,
   "metadata": {},
   "outputs": [],
   "source": [
    "pickle_dump(smiles_date, \"../../data/processed/surechembl/250106_surechembl_smiles_date.pickle\")"
   ]
  },
  {
   "cell_type": "code",
   "execution_count": null,
   "metadata": {},
   "outputs": [],
   "source": []
  }
 ],
 "metadata": {
  "kernelspec": {
   "display_name": "250102_test_env",
   "language": "python",
   "name": "250102_test_env"
  },
  "language_info": {
   "codemirror_mode": {
    "name": "ipython",
    "version": 3
   },
   "file_extension": ".py",
   "mimetype": "text/x-python",
   "name": "python",
   "nbconvert_exporter": "python",
   "pygments_lexer": "ipython3",
   "version": "3.11.4"
  }
 },
 "nbformat": 4,
 "nbformat_minor": 2
}
