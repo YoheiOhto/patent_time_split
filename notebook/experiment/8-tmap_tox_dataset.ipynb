{
 "cells": [
  {
   "cell_type": "code",
   "execution_count": 1,
   "metadata": {},
   "outputs": [],
   "source": [
    "import multiprocessing as mp\n",
    "import os\n",
    "import pickle\n",
    "import random\n",
    "import re\n",
    "import sys\n",
    "from timeit import default_timer as timer\n",
    "\n",
    "import matplotlib.pyplot as plt\n",
    "import numpy as np\n",
    "import pandas as pd\n",
    "import tmap as tm\n",
    "from faerun import Faerun\n",
    "from matplotlib.colors import LinearSegmentedColormap, ListedColormap\n",
    "from rdkit import Chem, RDLogger\n",
    "from rdkit.Chem import AllChem, Descriptors\n",
    "from tqdm import tqdm\n",
    "from tqdm.auto import trange\n",
    "\n",
    "current_dir = os.getcwd()\n",
    "parent_parent_dir = os.path.dirname(os.path.dirname(current_dir))\n",
    "src_dir = os.path.join(parent_parent_dir, 'src')\n",
    "sys.path.append(src_dir)\n",
    "\n",
    "from util import *\n",
    "\n",
    "RDLogger.DisableLog('rdApp.*')"
   ]
  },
  {
   "cell_type": "code",
   "execution_count": 2,
   "metadata": {},
   "outputs": [],
   "source": [
    "df = pd.read_csv('../../data/processed/tdc/Tox/12_hERG_at_inhib_date.tsv', sep='\\t')"
   ]
  },
  {
   "cell_type": "code",
   "execution_count": 3,
   "metadata": {},
   "outputs": [],
   "source": [
    "def compute_ecfp(smiles):\n",
    "    mol = Chem.MolFromSmiles(smiles)\n",
    "    if mol:\n",
    "        return AllChem.GetMorganFingerprintAsBitVect(mol, radius=2, nBits=2048)\n",
    "    return None"
   ]
  },
  {
   "cell_type": "code",
   "execution_count": 4,
   "metadata": {},
   "outputs": [
    {
     "data": {
      "application/vnd.jupyter.widget-view+json": {
       "model_id": "a9a64ccbf2b940079362a99dd51db740",
       "version_major": 2,
       "version_minor": 0
      },
      "text/plain": [
       "  0%|          | 0/23782 [00:00<?, ?it/s]"
      ]
     },
     "metadata": {},
     "output_type": "display_data"
    }
   ],
   "source": [
    "smiles = []\n",
    "years = []\n",
    "ecfps = []\n",
    "\n",
    "for i in trange(len(df)):\n",
    "    smiles.append(df.iloc[i,0])\n",
    "    years.append(int(df.iloc[i,2]))\n",
    "    ecfps.append(compute_ecfp(df.iloc[i,0]))"
   ]
  },
  {
   "cell_type": "code",
   "execution_count": 5,
   "metadata": {},
   "outputs": [],
   "source": [
    "tox = [df.iloc[i,1] for i in range(len(df))]"
   ]
  },
  {
   "cell_type": "code",
   "execution_count": 6,
   "metadata": {},
   "outputs": [
    {
     "data": {
      "application/vnd.jupyter.widget-view+json": {
       "model_id": "5eea7fe282534b17b0851fa454357541",
       "version_major": 2,
       "version_minor": 0
      },
      "text/plain": [
       "  0%|          | 0/23782 [00:00<?, ?it/s]"
      ]
     },
     "metadata": {},
     "output_type": "display_data"
    },
    {
     "name": "stdout",
     "output_type": "stream",
     "text": [
      "Generating the data took 83125.98600902129ms.\n",
      "Adding the data took 35872.72170407232ms.\n",
      "Indexing took 396.18062193039805ms.\n",
      "make knn graph 11898.609181051143ms.\n"
     ]
    }
   ],
   "source": [
    "enc = tm.Minhash(128)\n",
    "lf = tm.LSHForest(128)\n",
    "\n",
    "d = 2048\n",
    "n = len(smiles)\n",
    "\n",
    "data = []\n",
    "start = timer()\n",
    "for x in trange(n):\n",
    "    data.append(tm.VectorUchar(np.array(ecfps[x])))\n",
    "print(f\"Generating the data took {(timer() - start) * 1000}ms.\", flush=True)\n",
    "\n",
    "start = timer()\n",
    "lf.batch_add(enc.batch_from_binary_array(data))\n",
    "print(f\"Adding the data took {(timer() - start) * 1000}ms.\", flush=True)\n",
    "\n",
    "start = timer()\n",
    "lf.index()\n",
    "print(f\"Indexing took {(timer() - start) * 1000}ms.\", flush=True)\n",
    "\n",
    "start = timer()\n",
    "knng_from = tm.VectorUint()\n",
    "knng_to = tm.VectorUint()\n",
    "knng_weight = tm.VectorFloat()\n",
    "\n",
    "_ = lf.get_knn_graph(knng_from, knng_to, knng_weight, 10)\n",
    "print(f\"make knn graph {(timer() - start) * 1000}ms.\", flush=True)"
   ]
  },
  {
   "cell_type": "code",
   "execution_count": 7,
   "metadata": {},
   "outputs": [
    {
     "data": {
      "text/plain": [
       "(array([1.000e+00, 0.000e+00, 0.000e+00, 0.000e+00, 0.000e+00, 0.000e+00,\n",
       "        1.000e+00, 1.340e+02, 9.000e+01, 1.360e+02, 1.431e+03, 4.620e+02,\n",
       "        3.880e+02, 3.160e+02, 3.310e+02, 3.290e+02, 2.530e+02, 1.890e+02,\n",
       "        2.230e+02, 2.170e+02, 2.520e+02, 2.030e+02, 2.220e+02, 2.120e+02,\n",
       "        2.230e+02, 1.930e+02, 1.900e+02, 1.720e+02, 2.090e+02, 2.320e+02,\n",
       "        2.220e+02, 2.250e+02, 2.000e+02, 2.190e+02, 3.370e+02, 2.810e+02,\n",
       "        3.440e+02, 4.210e+02, 7.640e+02, 7.030e+02, 5.360e+02, 1.434e+03,\n",
       "        8.830e+02, 1.594e+03, 1.329e+03, 9.250e+02, 9.620e+02, 8.120e+02,\n",
       "        9.500e+02, 7.830e+02, 4.980e+02, 7.480e+02, 2.850e+02, 2.850e+02,\n",
       "        3.960e+02, 4.470e+02, 1.580e+02, 4.320e+02]),\n",
       " array([1966.        , 1966.98275862, 1967.96551724, 1968.94827586,\n",
       "        1969.93103448, 1970.9137931 , 1971.89655172, 1972.87931034,\n",
       "        1973.86206897, 1974.84482759, 1975.82758621, 1976.81034483,\n",
       "        1977.79310345, 1978.77586207, 1979.75862069, 1980.74137931,\n",
       "        1981.72413793, 1982.70689655, 1983.68965517, 1984.67241379,\n",
       "        1985.65517241, 1986.63793103, 1987.62068966, 1988.60344828,\n",
       "        1989.5862069 , 1990.56896552, 1991.55172414, 1992.53448276,\n",
       "        1993.51724138, 1994.5       , 1995.48275862, 1996.46551724,\n",
       "        1997.44827586, 1998.43103448, 1999.4137931 , 2000.39655172,\n",
       "        2001.37931034, 2002.36206897, 2003.34482759, 2004.32758621,\n",
       "        2005.31034483, 2006.29310345, 2007.27586207, 2008.25862069,\n",
       "        2009.24137931, 2010.22413793, 2011.20689655, 2012.18965517,\n",
       "        2013.17241379, 2014.15517241, 2015.13793103, 2016.12068966,\n",
       "        2017.10344828, 2018.0862069 , 2019.06896552, 2020.05172414,\n",
       "        2021.03448276, 2022.01724138, 2023.        ]),\n",
       " <BarContainer object of 58 artists>)"
      ]
     },
     "execution_count": 7,
     "metadata": {},
     "output_type": "execute_result"
    },
    {
     "data": {
      "image/png": "[encoded data removed]",
      "text/plain": [
       "<Figure size 640x480 with 1 Axes>"
      ]
     },
     "metadata": {},
     "output_type": "display_data"
    }
   ],
   "source": [
    "plt.hist(years, bins=58)"
   ]
  },
  {
   "cell_type": "code",
   "execution_count": 8,
   "metadata": {},
   "outputs": [],
   "source": [
    "labels = []\n",
    "for year in years:\n",
    "    labels.append(max(1989, min(2018, year)))"
   ]
  },
  {
   "cell_type": "code",
   "execution_count": 9,
   "metadata": {},
   "outputs": [
    {
     "data": {
      "text/plain": [
       "(array([5390.,  223.,  193.,  190.,  172.,  209.,  232.,  222.,  225.,\n",
       "         200.,  219.,  337.,  281.,  344.,  421.,  764.,  703.,  536.,\n",
       "        1434.,  883., 1594., 1329.,  925.,  962.,  812.,  950.,  783.,\n",
       "         498.,  748., 2003.]),\n",
       " array([1989.        , 1989.96666667, 1990.93333333, 1991.9       ,\n",
       "        1992.86666667, 1993.83333333, 1994.8       , 1995.76666667,\n",
       "        1996.73333333, 1997.7       , 1998.66666667, 1999.63333333,\n",
       "        2000.6       , 2001.56666667, 2002.53333333, 2003.5       ,\n",
       "        2004.46666667, 2005.43333333, 2006.4       , 2007.36666667,\n",
       "        2008.33333333, 2009.3       , 2010.26666667, 2011.23333333,\n",
       "        2012.2       , 2013.16666667, 2014.13333333, 2015.1       ,\n",
       "        2016.06666667, 2017.03333333, 2018.        ]),\n",
       " <BarContainer object of 30 artists>)"
      ]
     },
     "execution_count": 9,
     "metadata": {},
     "output_type": "execute_result"
    },
    {
     "data": {
      "image/png": "[encoded data removed]",
      "text/plain": [
       "<Figure size 640x480 with 1 Axes>"
      ]
     },
     "metadata": {},
     "output_type": "display_data"
    }
   ],
   "source": [
    "plt.hist(labels, bins=30)"
   ]
  },
  {
   "cell_type": "code",
   "execution_count": 10,
   "metadata": {},
   "outputs": [
    {
     "name": "stdout",
     "output_type": "stream",
     "text": [
      "5390 5794\n"
     ]
    }
   ],
   "source": [
    "blue = 0\n",
    "red = 0\n",
    "\n",
    "for i in range(len(labels)):\n",
    "    if labels[i] < 1990:\n",
    "        blue += 1\n",
    "    elif labels[i] > 2012:\n",
    "        red += 1\n",
    "\n",
    "print(blue, red)"
   ]
  },
  {
   "cell_type": "code",
   "execution_count": 11,
   "metadata": {},
   "outputs": [
    {
     "name": "stdout",
     "output_type": "stream",
     "text": [
      "1989 2018 30\n"
     ]
    },
    {
     "data": {
      "image/png": "[encoded data removed]",
      "text/plain": [
       "<Figure size 800x100 with 1 Axes>"
      ]
     },
     "metadata": {},
     "output_type": "display_data"
    }
   ],
   "source": [
    "num_colors = min(labels)\n",
    "total_colors = max(labels) - min(labels) + 1 \n",
    "\n",
    "print(min(labels), max(labels), total_colors)\n",
    "\n",
    "base_cmap = plt.get_cmap(\"cool\")\n",
    "colors = [base_cmap(i / total_colors) for i in range(total_colors)]\n",
    "\n",
    "black_section = [(0, 0, 0, 0)] * num_colors  # 1973個の黒\n",
    "new_colors = black_section + colors  # 1973個の黒 + 残りの色\n",
    "\n",
    "MY_CM = LinearSegmentedColormap.from_list(\"my_map_black\", new_colors, N=len(new_colors))\n",
    "\n",
    "colors_section = new_colors[num_colors:]  \n",
    "\n",
    "for i in range(1, len(colors_section)-6):\n",
    "    colors_section[i] = (0, 0, 0, 0)\n",
    "\n",
    "new_colors[num_colors:] = colors_section\n",
    "\n",
    "MY_CM_SELECTED = LinearSegmentedColormap.from_list(\"my_map_black\", colors_section, N=len(colors_section))\n",
    "MY_CM_3 = LinearSegmentedColormap.from_list(\"my_map_black\", new_colors, N=len(new_colors))\n",
    "\n",
    "gradient = np.linspace(0, 1, 256).reshape(1, -1)\n",
    "plt.figure(figsize=(8, 1))\n",
    "plt.imshow(gradient, aspect=\"auto\", cmap=MY_CM_SELECTED)\n",
    "plt.axis(\"off\")\n",
    "plt.show()"
   ]
  },
  {
   "cell_type": "code",
   "execution_count": 12,
   "metadata": {},
   "outputs": [
    {
     "data": {
      "image/png": "[encoded data removed]",
      "text/html": [
       "<div style=\"vertical-align: middle;\"><strong>cool</strong> </div><div class=\"cmap\"><img alt=\"cool colormap\" title=\"cool\" style=\"border: 1px solid #555;\" src=\"data:image/png;base64,iVBORw0KGgoAAAANSUhEUgAAAgAAAABACAYAAABsv8+/AAAAE3RFWHRUaXRsZQBjb29sIGNvbG9ybWFwN9+MxQAAABl0RVh0RGVzY3JpcHRpb24AY29vbCBjb2xvcm1hcLxtHF0AAAAwdEVYdEF1dGhvcgBNYXRwbG90bGliIHYzLjkuMiwgaHR0cHM6Ly9tYXRwbG90bGliLm9yZ2GZxVMAAAAydEVYdFNvZnR3YXJlAE1hdHBsb3RsaWIgdjMuOS4yLCBodHRwczovL21hdHBsb3RsaWIub3JnTz9adAAAAWBJREFUeJzt1rEKg0AURcGn///NbhorKwWFwJlplhB2LyTN2WatNTOzrZnyOee5v/X9cZ7z0fsv79/duf07Xvbf+h/sf7v/+nvH5fPD+/b/bP/pO9d7D+/b/3Z/HwAgRwAAQJAAAIAgAQAAQQIAAIIEAAAECQAACBIAABAkAAAgSAAAQJAAAIAgAQAAQQIAAIIEAAAECQAACBIAABAkAAAgSAAAQJAAAIAgAQAAQQIAAIIEAAAECQAACBIAABAkAAAgSAAAQJAAAIAgAQAAQQIAAIIEAAAECQAACBIAABAkAAAgSAAAQJAAAIAgAQAAQQIAAIIEAAAECQAACBIAABAkAAAgSAAAQJAAAIAgAQAAQQIAAIIEAAAECQAACBIAABAkAAAgSAAAQJAAAIAgAQAAQQIAAIIEAAAECQAACBIAABAkAAAgSAAAQJAAAIAgAQAAQQIAAIIEAAAECQAACPoBsqPsfeghrZ0AAAAASUVORK5CYII=\"></div><div style=\"vertical-align: middle; max-width: 514px; display: flex; justify-content: space-between;\"><div style=\"float: left;\"><div title=\"#00ffffff\" style=\"display: inline-block; width: 1em; height: 1em; margin: 0; vertical-align: middle; border: 1px solid #555; background-color: #00ffffff;\"></div> under</div><div style=\"margin: 0 auto; display: inline-block;\">bad <div title=\"#00000000\" style=\"display: inline-block; width: 1em; height: 1em; margin: 0; vertical-align: middle; border: 1px solid #555; background-color: #00000000;\"></div></div><div style=\"float: right;\">over <div title=\"#ff00ffff\" style=\"display: inline-block; width: 1em; height: 1em; margin: 0; vertical-align: middle; border: 1px solid #555; background-color: #ff00ffff;\"></div></div></div>"
      ],
      "text/plain": [
       "<matplotlib.colors.LinearSegmentedColormap at 0x7495a952a100>"
      ]
     },
     "execution_count": 12,
     "metadata": {},
     "output_type": "execute_result"
    }
   ],
   "source": [
    "base_cmap"
   ]
  },
  {
   "cell_type": "code",
   "execution_count": 13,
   "metadata": {},
   "outputs": [],
   "source": [
    "custom_cmap = ListedColormap(\n",
    "    [\"#ffffff\", \"#ff0000\"],\n",
    "    name=\"custom\",\n",
    ")"
   ]
  },
  {
   "cell_type": "code",
   "execution_count": 14,
   "metadata": {},
   "outputs": [
    {
     "data": {
      "text/html": [
       "\n",
       "        <iframe\n",
       "            width=\"100%\"\n",
       "            height=\"500\"\n",
       "            src=\"./tdc_12_hERG.html\"\n",
       "            frameborder=\"0\"\n",
       "            allowfullscreen\n",
       "            \n",
       "        ></iframe>\n",
       "        "
      ],
      "text/plain": [
       "<IPython.lib.display.IFrame at 0x7495a943c100>"
      ]
     },
     "metadata": {},
     "output_type": "display_data"
    },
    {
     "data": {
      "text/html": [
       "<a href='./tdc_12_hERG.html' target='_blank'>./tdc_12_hERG.html</a><br>"
      ],
      "text/plain": [
       "/workspace/HDD1/user/ohto_2/1-project/2-tox_pred/2-patent_date_split/github/patent_time_split/notebook/experiment/tdc_12_hERG.html"
      ]
     },
     "metadata": {},
     "output_type": "display_data"
    }
   ],
   "source": [
    "x, y, s, t, _ = tm.layout_from_lsh_forest(lf)\n",
    "\n",
    "faerun = Faerun(clear_color=\"#111111\", view=\"front\", coords=False)\n",
    "\n",
    "faerun.add_scatter(\n",
    "    \"tdc_12_hERG\",\n",
    "    {\"x\": x, \"y\": y, \"c\": [labels, labels, tox], \"labels\": smiles},\n",
    "    colormap=[MY_CM, MY_CM_3, custom_cmap],\n",
    "    shader=\"smoothCircle\",\n",
    "    series_title=[\"Year\", \"Year\", \"Tox\"],\n",
    "    point_scale=2.5,\n",
    "    max_point_size=10,\n",
    "    has_legend=True,\n",
    "    categorical=True,\n",
    ")\n",
    "faerun.add_tree(\n",
    "    \"tdc_12_hERG_tree\", {\"from\": s, \"to\": t}, point_helper=\"tdc_12_hERG\", color=\"#666666\"\n",
    ")\n",
    "\n",
    "faerun.plot(\"tdc_12_hERG\", template=\"smiles\")"
   ]
  },
  {
   "cell_type": "code",
   "execution_count": 15,
   "metadata": {},
   "outputs": [
    {
     "data": {
      "application/vnd.jupyter.widget-view+json": {
       "model_id": "3d62a2e6d04c46d3a516535b9fe66a1b",
       "version_major": 2,
       "version_minor": 0
      },
      "text/plain": [
       "  0%|          | 0/1000 [00:00<?, ?it/s]"
      ]
     },
     "metadata": {},
     "output_type": "display_data"
    },
    {
     "name": "stdout",
     "output_type": "stream",
     "text": [
      "LSH Forest Edge Purity (Real): 0.3061\n",
      "Mean Random Purity: 0.0836\n",
      "p-value: 0.0000\n"
     ]
    }
   ],
   "source": [
    "def lsh_forest_purity(s, t, labels):\n",
    "    matches = (labels[s] == labels[t])\n",
    "    purity = np.sum(matches) / len(matches)\n",
    "    return purity\n",
    "\n",
    "labels = np.array(labels) \n",
    "lsh_purity_real = lsh_forest_purity(s, t, labels)\n",
    "\n",
    "num_permutations = 1000\n",
    "random_purities = []\n",
    "\n",
    "for _ in trange(num_permutations):\n",
    "    shuffled_labels = np.random.permutation(labels)\n",
    "    random_purity = lsh_forest_purity(s, t, shuffled_labels)\n",
    "    random_purities.append(random_purity)\n",
    "\n",
    "random_purities = np.array(random_purities)\n",
    "p_value = np.mean(random_purities >= lsh_purity_real)\n",
    "\n",
    "\n",
    "print(f\"LSH Forest Edge Purity (Real): {lsh_purity_real:.4f}\")\n",
    "print(f\"Mean Random Purity: {random_purities.mean():.4f}\")\n",
    "print(f\"p-value: {p_value:.4f}\")"
   ]
  },
  {
   "cell_type": "code",
   "execution_count": null,
   "metadata": {},
   "outputs": [],
   "source": []
  }
 ],
 "metadata": {
  "kernelspec": {
   "display_name": "tmap",
   "language": "python",
   "name": "python3"
  },
  "language_info": {
   "codemirror_mode": {
    "name": "ipython",
    "version": 3
   },
   "file_extension": ".py",
   "mimetype": "text/x-python",
   "name": "python",
   "nbconvert_exporter": "python",
   "pygments_lexer": "ipython3",
   "version": "3.9.21"
  }
 },
 "nbformat": 4,
 "nbformat_minor": 2
}
